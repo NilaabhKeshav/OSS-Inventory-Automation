{
 "cells": [
  {
   "cell_type": "code",
   "execution_count": 22,
   "metadata": {},
   "outputs": [],
   "source": [
    "#imports\n",
    "\n",
    "import json\n",
    "import csv\n",
    "import glob\n",
    "import sys\n",
    "import os"
   ]
  },
  {
   "cell_type": "code",
   "execution_count": 23,
   "metadata": {},
   "outputs": [
    {
     "name": "stdout",
     "output_type": "stream",
     "text": [
      "Run this script in \"C:\\Users\\DELL\\Desktop\\OSS project\\Part1\" ? (Y/N)\n",
      "y\n"
     ]
    }
   ],
   "source": [
    "print(\"Run this script in \\\"\" + os.getcwd() + \"\\\" ? (Y/N)\")\n",
    "n = str(input())\n",
    "if n!='Y' and n!='y':\n",
    "    sys.exit(\"Script terminated\")"
   ]
  },
  {
   "cell_type": "code",
   "execution_count": 24,
   "metadata": {},
   "outputs": [],
   "source": [
    "#global variables\n",
    "\n",
    "header = ['Artifact', 'Version']\n",
    "depsData = []\n",
    "devdepsData = []\n",
    "tempName = []\n",
    "devtempName = []"
   ]
  },
  {
   "cell_type": "code",
   "execution_count": 25,
   "metadata": {},
   "outputs": [],
   "source": [
    "#functions\n",
    "\n",
    "def fileDisp(jsonFiles):\n",
    "    jsonLen = len(jsonFiles)\n",
    "    if jsonLen == 0:\n",
    "        sys.exit(\"No 'package.json' files found in directory.\")\n",
    "    else:\n",
    "        print(\"Following 'package.json' files found in directory.\")\n",
    "        for i in range(jsonLen):\n",
    "            print (str(int(i)+1) + \". \" + jsonFiles[i])\n",
    "            \n",
    "def dataExtract(d, dData, tName):\n",
    "    for obj in d:\n",
    "            row = [obj, d[obj]]\n",
    "            if(row not in dData):\n",
    "                dData.append(row)\n",
    "                tName.append(obj + \"-\" + d[obj] + \".jgz\")\n",
    "                \n",
    "def makeDir(path):\n",
    "    try: \n",
    "        os.mkdir(path)\n",
    "        print(\"Creating and accessing \" + path + \" directory\")\n",
    "    except OSError as error: \n",
    "        print(\"Accessing \" + path + \" directory\")\n",
    "                \n",
    "def outputCSV(outpath, head, dat):\n",
    "    with open(outpath, 'w', encoding='UTF8', newline='') as f:\n",
    "        writer = csv.writer(f)\n",
    "        writer.writerow(head)\n",
    "        writer.writerows(dat)\n",
    "    print(str(len(dat)) + \" lines written to \" + outpath)\n",
    "    "
   ]
  },
  {
   "cell_type": "code",
   "execution_count": 26,
   "metadata": {},
   "outputs": [
    {
     "name": "stdout",
     "output_type": "stream",
     "text": [
      "Following 'package.json' files found in directory.\n",
      "1. .\\New folder\\package.json\n"
     ]
    }
   ],
   "source": [
    "#locate all JSON files in directory\n",
    "\n",
    "path = \".\"\n",
    "#path = input(\"Enter parent directory: \")\n",
    "jsonFiles = glob.glob(path + \"/**/package.json\", recursive = True)\n",
    "fileDisp(jsonFiles)"
   ]
  },
  {
   "cell_type": "code",
   "execution_count": 27,
   "metadata": {},
   "outputs": [],
   "source": [
    "#data extraction from JSON files\n",
    "\n",
    "for file in jsonFiles:\n",
    "    with open(file) as jsonFile:\n",
    "        jsonObject = json.load(jsonFile)\n",
    "        jsonFile.close()\n",
    "        deps = jsonObject['dependencies']\n",
    "        devdeps = jsonObject['devDependencies']\n",
    "        dataExtract(deps, depsData, tempName)\n",
    "        dataExtract(devdeps, devdepsData, devtempName)"
   ]
  },
  {
   "cell_type": "code",
   "execution_count": 28,
   "metadata": {},
   "outputs": [
    {
     "name": "stdout",
     "output_type": "stream",
     "text": [
      "{\n",
      "    \"@webcomponents/webcomponentsjs\": \"2.3.0\",\n",
      "    \"component-emitter\": \"1.3.0\",\n",
      "    \"core-js\": \"3.6.5\",\n",
      "    \"dayjs\": \"1.8.35\",\n",
      "    \"deepmerge\": \"4.0.0\",\n",
      "    \"highcharts\": \"8.2.0\",\n",
      "    \"intro.js\": \"3.4.0\",\n",
      "    \"leaflet\": \"1.7.1\",\n",
      "    \"leaflet-geosearch\": \"3.0.5\",\n",
      "    \"leaflet-lasso\": \"2.2.2\",\n",
      "    \"leaflet.markercluster\": \"1.4.1\",\n",
      "    \"lit-element\": \"2.4.0\",\n",
      "    \"lit-html\": \"1.2.0\",\n",
      "    \"lit-virtualizer\": \"0.4.2\",\n",
      "    \"lodash\": \"4.17.15\",\n",
      "    \"moment\": \"2.24.0\",\n",
      "    \"moment-timezone\": \"0.5.31\",\n",
      "    \"path-to-regexp\": \"6.1.0\",\n",
      "    \"pnotify\": \"4.0.1\",\n",
      "    \"regenerator-runtime\": \"0.13.3\",\n",
      "    \"rxjs\": \"6.5.2\",\n",
      "    \"swiper\": \"3.4.2\",\n",
      "    \"systemjs\": \"4.1.0\",\n",
      "    \"tail.datetime\": \"0.4.13\",\n",
      "    \"whatwg-fetch\": \"3.0.0\"\n",
      "}\n",
      "{\n",
      "    \"@babel/core\": \"7.4.3\",\n",
      "    \"@babel/plugin-proposal-class-properties\": \"7.10.4\",\n",
      "    \"@babel/plugin-proposal-decorators\": \"7.10.4\",\n",
      "    \"@babel/plugin-syntax-dynamic-import\": \"7.2.0\",\n",
      "    \"@babel/preset-env\": \"7.4.3\",\n",
      "    \"@open-wc/testing\": \"2.5.17\",\n",
      "    \"babel-eslint\": \"10.1.0\",\n",
      "    \"babel-loader\": \"8.0.0\",\n",
      "    \"clean-webpack-plugin\": \"3.0.0\",\n",
      "    \"copy-webpack-plugin\": \"5.1.1\",\n",
      "    \"cpx2\": \"2.0.0\",\n",
      "    \"css-loader\": \"3.2.0\",\n",
      "    \"eslint\": \"6.5.1\",\n",
      "    \"eslint-config-google\": \"0.14.0\",\n",
      "    \"extract-loader\": \"3.1.0\",\n",
      "    \"fetch-mock\": \"9.9.0\",\n",
      "    \"file-loader\": \"4.2.0\",\n",
      "    \"fs-extra\": \"8.1.0\",\n",
      "    \"html-webpack-plugin\": \"3.2.0\",\n",
      "    \"istanbul-instrumenter-loader\": \"3.0.1\",\n",
      "    \"jsdoc\": \"3.6.3\",\n",
      "    \"karma\": \"4.4.1\",\n",
      "    \"karma-chrome-launcher\": \"3.1.0\",\n",
      "    \"karma-coverage-istanbul-reporter\": \"2.1.0\",\n",
      "    \"karma-htmlfile-reporter\": \"0.3.8\",\n",
      "    \"karma-mocha\": \"1.3.0\",\n",
      "    \"karma-mocha-reporter\": \"2.2.5\",\n",
      "    \"karma-sourcemap-loader\": \"0.3.7\",\n",
      "    \"karma-webpack\": \"4.0.2\",\n",
      "    \"lit-scss-loader\": \"1.0.0\",\n",
      "    \"npm-run-all\": \"4.1.5\",\n",
      "    \"rimraf\": \"2.6.3\",\n",
      "    \"webpack\": \"4.35.3\",\n",
      "    \"webpack-cli\": \"3.1.0\",\n",
      "    \"webpack-dev-server\": \"3.7.2\"\n",
      "}\n"
     ]
    }
   ],
   "source": [
    "#View the JSON file\n",
    "print(json.dumps(jsonObject['dependencies'],indent=4,sort_keys=True))\n",
    "print(json.dumps(jsonObject['devDependencies'],indent=4,sort_keys=True))"
   ]
  },
  {
   "cell_type": "code",
   "execution_count": 29,
   "metadata": {},
   "outputs": [
    {
     "name": "stdout",
     "output_type": "stream",
     "text": [
      "Accessing output directory\n",
      "25 lines written to output/dependencies.csv\n",
      "35 lines written to output/devDependencies.csv\n",
      "60 lines written to output/mergedDependencies.csv\n"
     ]
    }
   ],
   "source": [
    "#output\n",
    "\n",
    "outPath = 'output'\n",
    "makeDir(outPath)\n",
    "outputCSV(outPath + '/dependencies.csv', header, depsData)\n",
    "outputCSV(outPath + '/devDependencies.csv', header, devdepsData)\n",
    "outputCSV(outPath + '/mergedDependencies.csv', header, depsData+devdepsData)\n",
    "\n",
    "#print(tempName)\n",
    "#print(devtempName)"
   ]
  },
  {
   "cell_type": "code",
   "execution_count": null,
   "metadata": {},
   "outputs": [],
   "source": []
  }
 ],
 "metadata": {
  "kernelspec": {
   "display_name": "Python 3",
   "language": "python",
   "name": "python3"
  },
  "language_info": {
   "codemirror_mode": {
    "name": "ipython",
    "version": 3
   },
   "file_extension": ".py",
   "mimetype": "text/x-python",
   "name": "python",
   "nbconvert_exporter": "python",
   "pygments_lexer": "ipython3",
   "version": "3.7.4"
  }
 },
 "nbformat": 4,
 "nbformat_minor": 5
}
